{
  "cells": [
    {
      "cell_type": "markdown",
      "metadata": {
        "id": "qEHOFiopxio-"
      },
      "source": [
        "#THEORY  BASED QUESTIONS\n",
        "\n",
        "Q1  What is Python, and why is it popular?\n",
        "- Pyhton is a programming language known for its simplicity and readability.\n",
        "\n",
        "\n",
        "Q2 What is an interpreter in Python?\n",
        "- An interpreter in Python is a program that executes Python code line by line, converting it into machine-readable instructions.\n",
        "\n",
        "\n",
        "Q3 What are pre-defined keywords in Python?\n",
        "- Pre-defined keywords in Python are reserved words that have special meanings and cannot be used as variable names, function names, or identifiers. For example - True, print,def,false,elif,etc.\n",
        "\n",
        "\n",
        "Q4 Can keywords be used as variable names?\n",
        "- No, keywords cannot be used as variable names because they have a predefined function in Python.\n",
        "\n",
        "Q5 What is mutability in Python?\n",
        "- Mutability refers to whether an object’s value can be changed after creation.\n",
        "\n",
        "Mutable objects – Can be modified after creation. (e.g., list, dict, set)\n",
        "\n",
        "Immutable objects – Cannot be modified after creation. (e.g., tuple, str, int, float)\n",
        "\n",
        "\n",
        "Q6 Why are lists mutable, but tuples are immutable?\n",
        "- Lists (list) are mutable because they store references to objects, and elements can be changed in place.\n",
        "\n",
        "- Tuples (tuple) are immutable because they store data in a fixed structure, ensuring data integrity and efficiency.\n",
        "\n",
        "\n",
        "Q7 What is the difference between “==” and “is” operators in Python?\n",
        "- **== (Equality Operator**): Compares values of two objects.\n",
        "\n",
        "- **is (Identity Operator)**: Checks if two objects have the same memory location\n",
        "\n",
        "\n",
        "Q8 What are logical operators in Python?\n",
        "- Python has **three** logical operators used to combine conditional statements:\n",
        "\n",
        "1. and – Returns True if both conditions are True.\n",
        "2. or – Returns True if at least one condition is True.\n",
        "3. not – Reverses the boolean value.\n",
        "\n",
        "\n",
        "Q9 What is type casting in Python?\n",
        "- Type casting (or type conversion) is the process of converting one data type into another. Example, to convert int to str we use: a = str(100)\n",
        "\n",
        "\n",
        "Q10 What is the difference between implicit and explicit type casting?\n",
        "- 1. **Implicit Type Casting** - Python automatically converts data type. Example,\tx = 5 + 3.2 → x becomes float.\n",
        "- 2. **Explicit Type Casting**- Manually convert data type using functions like int(), float(), str().\n",
        "Example ,\tx = int(\"100\") → [string 100 is converteed to integer 100.]\n",
        "\n",
        "\n",
        "Q11 What is the purpose of conditional statements in Python?\n",
        "- Conditional statements allow a program to make decisions based on **specific conditions**. They help in controlling the flow of execution by executing different blocks of code depending on whether a condition is **True or False**. Example below:\n",
        "\n",
        "\n"
      ]
    },
    {
      "cell_type": "code",
      "execution_count": null,
      "metadata": {
        "colab": {
          "base_uri": "https://localhost:8080/"
        },
        "id": "BEeW9Dxu2Sdq",
        "outputId": "36f1f988-b8da-4b97-c25b-462536c4eab2"
      },
      "outputs": [
        {
          "name": "stdout",
          "output_type": "stream",
          "text": [
            "You are eligible to vote.\n"
          ]
        }
      ],
      "source": [
        "age = 18\n",
        "if age >= 18:\n",
        "    print(\"You are eligible to vote.\")  # Executes if condition is True\n",
        "else:\n",
        "    print(\"You are not eligible to vote.\")  #  Skipped if condition is False\n"
      ]
    },
    {
      "cell_type": "markdown",
      "metadata": {
        "id": "_cfJ_K823nSg"
      },
      "source": [
        "Q12 How does the elif statement work?\n",
        "- The **elif (short for else if)**statement is used when ** multiple conditions** need to be checked. It prevents unnecessary if statements and makes code more readable. Example below:\n",
        "\n"
      ]
    },
    {
      "cell_type": "code",
      "execution_count": null,
      "metadata": {
        "colab": {
          "base_uri": "https://localhost:8080/"
        },
        "id": "I6F7H2U43PcY",
        "outputId": "0209d607-0f1c-4a6d-d196-7e71b53ab629"
      },
      "outputs": [
        {
          "name": "stdout",
          "output_type": "stream",
          "text": [
            "Grade: B\n"
          ]
        }
      ],
      "source": [
        "score = 85\n",
        "if score >= 90:\n",
        "    print(\"Grade: A\")\n",
        "elif 80<=score<90:\n",
        "    print(\"Grade: B\")  # Executes since 85 is between 80 and 89\n",
        "elif score >= 70:\n",
        "    print(\"Grade: C\")\n",
        "else:\n",
        "    print(\"Grade: D\")\n"
      ]
    },
    {
      "cell_type": "markdown",
      "metadata": {
        "id": "QoUTGObn3ofR"
      },
      "source": [
        "\n",
        "\n",
        "Q13 What is the difference between for and while loops?\n",
        "- 1. **Use Case**- FOR LOOP is used when the the number of iterations is known, on the other hand , WHILE LOOP is used when the number of iterations is unknown.\n",
        " 2. **Loop Condition**- FOR LOOP iterates over a sequence (list, tuple, range).\n",
        " WHILE LOOP runs as long as a condition is True.\n",
        "\n"
      ]
    },
    {
      "cell_type": "markdown",
      "metadata": {
        "id": "02fo6_v74W7L"
      },
      "source": [
        "\n",
        "\n",
        "Q14 Describe a scenario where a while loop is more suitable than a for loop.\n",
        "- A while loop is better when the **number of iterations is unknown** and depends on a condition being met."
      ]
    },
    {
      "cell_type": "code",
      "execution_count": null,
      "metadata": {
        "colab": {
          "base_uri": "https://localhost:8080/"
        },
        "id": "j4L6GcQlxroR",
        "outputId": "201e340b-524a-4029-d259-0cee483d37f0"
      },
      "outputs": [
        {
          "name": "stdout",
          "output_type": "stream",
          "text": [
            "Enter password: ewer1123\n",
            "Enter password: python123\n",
            "Access Granted!\n"
          ]
        }
      ],
      "source": [
        "password = \"python123\"\n",
        "attempt = \"\"\n",
        "while attempt != password:\n",
        "    attempt = input(\"Enter password: \")  # User keeps trying until they enter the correct password\n",
        "print(\"Access Granted!\")\n"
      ]
    },
    {
      "cell_type": "markdown",
      "metadata": {
        "id": "r467l0bM7Btb"
      },
      "source": [
        "#PRACTICAL QUESTIONS\\:"
      ]
    },
    {
      "cell_type": "code",
      "execution_count": null,
      "metadata": {
        "colab": {
          "base_uri": "https://localhost:8080/"
        },
        "id": "xuP7oA2M43E4",
        "outputId": "a386ae8d-ab5b-4c80-c038-b9f43bc72fc7"
      },
      "outputs": [
        {
          "name": "stdout",
          "output_type": "stream",
          "text": [
            "hello world!\n"
          ]
        }
      ],
      "source": [
        "#Q1. Write a Python program to print \"Hello, World!.\n",
        "A = 'hello world!'\n",
        "print(A)\n"
      ]
    },
    {
      "cell_type": "code",
      "execution_count": null,
      "metadata": {
        "colab": {
          "base_uri": "https://localhost:8080/"
        },
        "id": "P9Vy7hJb7bLy",
        "outputId": "2067109f-ec60-490a-cdfc-6af16398b18c"
      },
      "outputs": [
        {
          "name": "stdout",
          "output_type": "stream",
          "text": [
            "Name is Ritika ,age is 19\n"
          ]
        }
      ],
      "source": [
        "#Q2. Write a Python program that displays your name and age.\n",
        "name_ = \"Ritika\"\n",
        "age = 19\n",
        "print(\"Name is\",name_,\",age is\", age)\n"
      ]
    },
    {
      "cell_type": "code",
      "execution_count": null,
      "metadata": {
        "colab": {
          "base_uri": "https://localhost:8080/"
        },
        "id": "-tmqiSrp7tBX",
        "outputId": "823472b9-90bd-4064-ae71-a0282a8dc286"
      },
      "outputs": [
        {
          "name": "stdout",
          "output_type": "stream",
          "text": [
            "\n",
            "Here is a list of the Python keywords.  Enter any keyword to get more help.\n",
            "\n",
            "False               class               from                or\n",
            "None                continue            global              pass\n",
            "True                def                 if                  raise\n",
            "and                 del                 import              return\n",
            "as                  elif                in                  try\n",
            "assert              else                is                  while\n",
            "async               except              lambda              with\n",
            "await               finally             nonlocal            yield\n",
            "break               for                 not                 \n",
            "\n"
          ]
        }
      ],
      "source": [
        "#Q3. Write code to print all the pre-defined keywords in Python using the keyword library\n",
        "help('keywords')"
      ]
    },
    {
      "cell_type": "code",
      "execution_count": 3,
      "metadata": {
        "id": "D0Q3vtEg8lVz",
        "colab": {
          "base_uri": "https://localhost:8080/"
        },
        "outputId": "294e25ee-337c-49a1-8ca0-7cf64c47eb4f"
      },
      "outputs": [
        {
          "output_type": "stream",
          "name": "stdout",
          "text": [
            "Enter a word: bye\n",
            "bye is not a Python keyword.\n"
          ]
        }
      ],
      "source": [
        "#Q4. Write a program that checks if a given word is a Python keyword.\n",
        "import keyword\n",
        "word = input(\"Enter a word: \")\n",
        "if keyword.iskeyword(word): #to check if a given string is a reserved keyword in Python\n",
        "    print(word, \"is a Python keyword.\")\n",
        "else:\n",
        "    print(word, \"is not a Python keyword.\")\n"
      ]
    },
    {
      "cell_type": "code",
      "execution_count": 4,
      "metadata": {
        "colab": {
          "base_uri": "https://localhost:8080/"
        },
        "id": "v7RBhBnZ81WA",
        "outputId": "f5dc9221-3594-41ce-f073-3b46d589d20d"
      },
      "outputs": [
        {
          "output_type": "stream",
          "name": "stdout",
          "text": [
            "(1, 2, 3, 'a', True, 1.2) [1, 3, 4, 5, 'f', 4.5, (3+5j)]\n"
          ]
        }
      ],
      "source": [
        "#Q5. Create a list and tuple in Python, and demonstrate how attempting to change an element works differently\n",
        "#for each\n",
        "tuple_ = (1,2,3,'a',True,1.2)\n",
        "list_ = [1,3,4,5,'f',4.5,3+5j]\n",
        "print(tuple_,list_)\n"
      ]
    },
    {
      "cell_type": "code",
      "source": [
        "tuple_[0] = \"a\"    #it showed an error as tuples are immutable\n"
      ],
      "metadata": {
        "colab": {
          "base_uri": "https://localhost:8080/",
          "height": 141
        },
        "id": "UAbZe4p59-j0",
        "outputId": "5a75f4dc-821d-4fb0-d76e-494c183e6912"
      },
      "execution_count": 10,
      "outputs": [
        {
          "output_type": "error",
          "ename": "TypeError",
          "evalue": "'tuple' object does not support item assignment",
          "traceback": [
            "\u001b[0;31m---------------------------------------------------------------------------\u001b[0m",
            "\u001b[0;31mTypeError\u001b[0m                                 Traceback (most recent call last)",
            "\u001b[0;32m<ipython-input-10-8a25c3c1dec1>\u001b[0m in \u001b[0;36m<cell line: 0>\u001b[0;34m()\u001b[0m\n\u001b[0;32m----> 1\u001b[0;31m \u001b[0mtuple_\u001b[0m\u001b[0;34m[\u001b[0m\u001b[0;36m0\u001b[0m\u001b[0;34m]\u001b[0m \u001b[0;34m=\u001b[0m \u001b[0;34m\"a\"\u001b[0m\u001b[0;34m\u001b[0m\u001b[0;34m\u001b[0m\u001b[0m\n\u001b[0m",
            "\u001b[0;31mTypeError\u001b[0m: 'tuple' object does not support item assignment"
          ]
        }
      ]
    },
    {
      "cell_type": "code",
      "source": [
        "list_[0] = \"A\" #it replaced the element at index 0 with the assigned element since lists are mutable\n",
        "list_"
      ],
      "metadata": {
        "colab": {
          "base_uri": "https://localhost:8080/"
        },
        "id": "_z93aqFt_mx1",
        "outputId": "e42db9f0-8fb4-4e1a-aeb5-81aa88006504"
      },
      "execution_count": 9,
      "outputs": [
        {
          "output_type": "execute_result",
          "data": {
            "text/plain": [
              "['A', 3, 4, 5, 'f', 4.5, (3+5j)]"
            ]
          },
          "metadata": {},
          "execution_count": 9
        }
      ]
    },
    {
      "cell_type": "code",
      "source": [
        "list_[2] = True\n",
        "list_"
      ],
      "metadata": {
        "colab": {
          "base_uri": "https://localhost:8080/"
        },
        "id": "1lnAMuMe_sz2",
        "outputId": "29b99088-4490-400f-fc87-15e3a66fa01f"
      },
      "execution_count": 12,
      "outputs": [
        {
          "output_type": "execute_result",
          "data": {
            "text/plain": [
              "['A', 3, True, 5, 'f', 4.5, (3+5j)]"
            ]
          },
          "metadata": {},
          "execution_count": 12
        }
      ]
    },
    {
      "cell_type": "code",
      "source": [
        "#Q6. Write a function to demonstrate the behavior of mutable and immutable arguments\n",
        "#ANS > don't know yet.\n",
        "#Q7 is same as ques. 6"
      ],
      "metadata": {
        "id": "dG4_rh89ATws"
      },
      "execution_count": null,
      "outputs": []
    },
    {
      "cell_type": "markdown",
      "source": [
        "#Q8. Write a program to demonstrate the use of logical operators.\n"
      ],
      "metadata": {
        "id": "EkkZlWDgCey-"
      }
    },
    {
      "cell_type": "code",
      "source": [
        "#1. AND OPERATOR >> returns true if both the conditions are true.\n",
        "\n",
        "x = 4\n",
        "y = -3\n",
        "x>0 and y >0 #one condition is false > will return false\n"
      ],
      "metadata": {
        "colab": {
          "base_uri": "https://localhost:8080/"
        },
        "id": "l_KCpABJBEmZ",
        "outputId": "c5af932a-693c-4772-c82c-bafcd53a4cf0"
      },
      "execution_count": 13,
      "outputs": [
        {
          "output_type": "execute_result",
          "data": {
            "text/plain": [
              "False"
            ]
          },
          "metadata": {},
          "execution_count": 13
        }
      ]
    },
    {
      "cell_type": "code",
      "source": [
        "#2. OR OPERATOR > returns true if even one condition is true\n",
        "x = 4\n",
        "y = -3\n",
        "x>0 or  y >0 #one condition is true > will return true\n"
      ],
      "metadata": {
        "colab": {
          "base_uri": "https://localhost:8080/"
        },
        "id": "Rh8VeCkuBFyy",
        "outputId": "08dd9e1c-0dc5-4754-a813-117107253039"
      },
      "execution_count": 15,
      "outputs": [
        {
          "output_type": "execute_result",
          "data": {
            "text/plain": [
              "True"
            ]
          },
          "metadata": {},
          "execution_count": 15
        }
      ]
    },
    {
      "cell_type": "code",
      "source": [
        "#3. NOT OPERATOR\n",
        "x =  4\n",
        "x > 0\n",
        "not(x > 0)"
      ],
      "metadata": {
        "colab": {
          "base_uri": "https://localhost:8080/"
        },
        "id": "GLIgx3LWBFng",
        "outputId": "27b3a6f2-840e-4108-eb04-43305ea12b08"
      },
      "execution_count": 18,
      "outputs": [
        {
          "output_type": "execute_result",
          "data": {
            "text/plain": [
              "False"
            ]
          },
          "metadata": {},
          "execution_count": 18
        }
      ]
    },
    {
      "cell_type": "code",
      "source": [
        "#Q9.  Write a Python program to convert user input from string to integer, float, and boolean types\n",
        "# converting string to int >>  [it will only convert a str to int if the user input str is a number else it will throw an error]\n",
        "\n",
        "user_input =  input(\"enter a number \")\n",
        "print(int(user_input))\n",
        "type(int(user_input))\n"
      ],
      "metadata": {
        "colab": {
          "base_uri": "https://localhost:8080/"
        },
        "id": "XTcI3e5cBFOG",
        "outputId": "e4cfedda-2282-4c72-ee06-3d731cbe4585"
      },
      "execution_count": 36,
      "outputs": [
        {
          "output_type": "stream",
          "name": "stdout",
          "text": [
            "enter a number 888\n",
            "888\n"
          ]
        },
        {
          "output_type": "execute_result",
          "data": {
            "text/plain": [
              "int"
            ]
          },
          "metadata": {},
          "execution_count": 36
        }
      ]
    },
    {
      "cell_type": "code",
      "source": [
        "user_input =  input(\"enter a number \")\n",
        "print(float(user_input))\n",
        "type(float(user_input))"
      ],
      "metadata": {
        "colab": {
          "base_uri": "https://localhost:8080/"
        },
        "id": "hKu0pXsnGQmH",
        "outputId": "69fa4ee1-32c6-438e-bebd-1dd5eb605899"
      },
      "execution_count": 35,
      "outputs": [
        {
          "output_type": "stream",
          "name": "stdout",
          "text": [
            "enter a number 5.333\n",
            "5.333\n"
          ]
        },
        {
          "output_type": "execute_result",
          "data": {
            "text/plain": [
              "float"
            ]
          },
          "metadata": {},
          "execution_count": 35
        }
      ]
    },
    {
      "cell_type": "code",
      "source": [
        "user_input =  input(\"enter a number \")\n",
        "print(bool(user_input))\n",
        "type(bool(user_input))"
      ],
      "metadata": {
        "colab": {
          "base_uri": "https://localhost:8080/"
        },
        "id": "ncaZ0YyGHIIM",
        "outputId": "5db18f7f-1ba6-4852-f866-c99df3e7831d"
      },
      "execution_count": 33,
      "outputs": [
        {
          "output_type": "stream",
          "name": "stdout",
          "text": [
            "enter a number -78\n",
            "True\n"
          ]
        },
        {
          "output_type": "execute_result",
          "data": {
            "text/plain": [
              "bool"
            ]
          },
          "metadata": {},
          "execution_count": 33
        }
      ]
    },
    {
      "cell_type": "code",
      "source": [
        "#Q10. Write code to demonstrate type casting with list elements.\n",
        "l = [1,2,'a',5+3j,True,9.7]"
      ],
      "metadata": {
        "id": "h5nzdQHQHe3t"
      },
      "execution_count": 37,
      "outputs": []
    },
    {
      "cell_type": "code",
      "source": [
        "l[4] = \"RITIKA\"  #the element at index 4 will be changed with 'RITIKA'\n",
        "l"
      ],
      "metadata": {
        "colab": {
          "base_uri": "https://localhost:8080/"
        },
        "id": "lbEgj5qsH4tH",
        "outputId": "bb3c92b5-9841-45da-8a7a-41a7cf54059b"
      },
      "execution_count": 39,
      "outputs": [
        {
          "output_type": "execute_result",
          "data": {
            "text/plain": [
              "[1, 2, 'a', (5+3j), 'RITIKA', 9.7]"
            ]
          },
          "metadata": {},
          "execution_count": 39
        }
      ]
    },
    {
      "cell_type": "code",
      "source": [
        "l[-1] = 100\n",
        "l"
      ],
      "metadata": {
        "colab": {
          "base_uri": "https://localhost:8080/"
        },
        "id": "iQt59Cd-H4p9",
        "outputId": "48a89559-9698-4c89-f925-7a81d7a688ae"
      },
      "execution_count": 41,
      "outputs": [
        {
          "output_type": "execute_result",
          "data": {
            "text/plain": [
              "[1, 2, 'a', (5+3j), 'RITIKA', 100]"
            ]
          },
          "metadata": {},
          "execution_count": 41
        }
      ]
    },
    {
      "cell_type": "code",
      "source": [
        "l [2] = True\n",
        "l"
      ],
      "metadata": {
        "colab": {
          "base_uri": "https://localhost:8080/"
        },
        "id": "TqrQmGHAH4m0",
        "outputId": "1be4cd04-324e-41e9-e945-a9faa4350871"
      },
      "execution_count": 43,
      "outputs": [
        {
          "output_type": "execute_result",
          "data": {
            "text/plain": [
              "[1, 2, True, (5+3j), 'RITIKA', 100]"
            ]
          },
          "metadata": {},
          "execution_count": 43
        }
      ]
    },
    {
      "cell_type": "code",
      "source": [
        "#Q11. Write a program that checks if a number is positive, negative, or zero.\n",
        "x =  input(\"entetr a no. \")\n",
        "if int(x) > 0:\n",
        "  print(f\"{x} is positive\")\n",
        "elif int(x) < 0:\n",
        "  print(f\"{x} is negative\")\n",
        "else:\n",
        "  print(f\"{x} is zero\")"
      ],
      "metadata": {
        "colab": {
          "base_uri": "https://localhost:8080/"
        },
        "id": "kbAOQ9xoH4j7",
        "outputId": "fb988b46-d3c9-45b5-fb91-bc1cbd1be38b"
      },
      "execution_count": 47,
      "outputs": [
        {
          "output_type": "stream",
          "name": "stdout",
          "text": [
            "entetr a no. 0\n",
            "0 is zero\n"
          ]
        }
      ]
    },
    {
      "cell_type": "code",
      "source": [
        "#Q12. Write a for loop to print numbers from 1 to 10.\n",
        "for i in range(1,11):\n",
        "  print(i)"
      ],
      "metadata": {
        "colab": {
          "base_uri": "https://localhost:8080/"
        },
        "id": "2LhpSnK3H4gy",
        "outputId": "f2628108-2f38-4d27-db75-7d7d04f0ee2d"
      },
      "execution_count": 49,
      "outputs": [
        {
          "output_type": "stream",
          "name": "stdout",
          "text": [
            "1\n",
            "2\n",
            "3\n",
            "4\n",
            "5\n",
            "6\n",
            "7\n",
            "8\n",
            "9\n",
            "10\n"
          ]
        }
      ]
    },
    {
      "cell_type": "code",
      "source": [
        "#Q13. Write a Python program to find the sum of all even numbers between 1 and 50.\n",
        "sum_even = 0\n",
        "for num in range(2,51,2):\n",
        "  sum_even += num\n",
        "print(sum_even)"
      ],
      "metadata": {
        "colab": {
          "base_uri": "https://localhost:8080/"
        },
        "id": "8raE0vKkH4eP",
        "outputId": "54d5c88a-9b97-4a13-c2c1-ce045942eb31"
      },
      "execution_count": 52,
      "outputs": [
        {
          "output_type": "stream",
          "name": "stdout",
          "text": [
            "650\n"
          ]
        }
      ]
    },
    {
      "cell_type": "code",
      "source": [
        "#Q14. Write a program to reverse a string using a while loop.\n",
        "s = \"ritika\"\n",
        "reverse_s = \"\"\n",
        "index = len(s)-1\n",
        "while index >= 0:\n",
        "  reverse_s += s[index]\n",
        "  index -= 1\n",
        "print(reverse_s)"
      ],
      "metadata": {
        "colab": {
          "base_uri": "https://localhost:8080/"
        },
        "id": "XAzSmn5ZKyXj",
        "outputId": "71d9bdb9-9f08-4b64-b9cb-aeb22b32e129"
      },
      "execution_count": 55,
      "outputs": [
        {
          "output_type": "stream",
          "name": "stdout",
          "text": [
            "akitir\n"
          ]
        }
      ]
    },
    {
      "cell_type": "code",
      "source": [
        "#Q15. Write a Python program to calculate the factorial of a number provided by the user using a while loop.\n",
        "num = int(input(\"enter a number \"))\n",
        "s = 1  #to start the multiplication from 1\n",
        "factorial_ = 1\n",
        "while s!= num+1:\n",
        "  factorial_ = factorial_*s\n",
        "  s += 1\n",
        "print(factorial_)\n"
      ],
      "metadata": {
        "colab": {
          "base_uri": "https://localhost:8080/"
        },
        "id": "l128K1ZAXZnu",
        "outputId": "91141a49-df74-48f1-9015-e46245e1c1e7"
      },
      "execution_count": 60,
      "outputs": [
        {
          "output_type": "stream",
          "name": "stdout",
          "text": [
            "enter a number 3\n",
            "6\n"
          ]
        }
      ]
    },
    {
      "cell_type": "code",
      "source": [
        "\n"
      ],
      "metadata": {
        "id": "53nouTTDYgI5"
      },
      "execution_count": 56,
      "outputs": []
    }
  ],
  "metadata": {
    "colab": {
      "provenance": []
    },
    "kernelspec": {
      "display_name": "Python 3",
      "name": "python3"
    },
    "language_info": {
      "name": "python"
    }
  },
  "nbformat": 4,
  "nbformat_minor": 0
}